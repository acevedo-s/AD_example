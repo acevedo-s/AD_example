{
 "cells": [
  {
   "cell_type": "markdown",
   "metadata": {},
   "source": [
    "Autodiff guide: https://www.tensorflow.org/guide/autodiff\n",
    "\n",
    "In this notebook I take the second example from the tf guide and I compute the result both by hand and by automatic differentiation, using simple values for the variables involved.\n",
    "\n",
    "Definitions and concepts:\n",
    "\n",
    "Let $x$ be a row vector that represents data, set to $[1,2,3]$. Let $W$ and $b$ be a weight matrix and a bias row vector filled with ones for simplicity.\n",
    "\n",
    "With $x$, $W$ and $b$, I construct the new row vector\n",
    "\n",
    "$$y = x . W + b.$$\n",
    "\n",
    "The target function chosen by the tf autodiff guide is\n",
    "\n",
    "$$\\text{loss}(x,W,b) = \\frac{\\big(x_1 W_{11} + x_2 W_{21} + x_3 W_{31} + b_1 \\big)^2 + \\big(x_1 W_{12} + x_2 W_{22} + x_3 W_{32} + b_2 \\big)^2} {2}.$$\n",
    "\n",
    "To check, I calculate here simbolically the partial derivative $\\frac{\\partial\\text{loss}}{\\partial{b_1}}$, which is\n",
    "\n",
    "$$\\frac{\\partial\\text{loss}(x,W,b)}{\\partial{b_1}} = x_1 W_{11} + x_2 W_{21} + x_3 W_{31} + b_1. $$\n",
    "\n",
    "PS: To understand the use of tf.GradientTape, read the cited guide.\n"
   ]
  },
  {
   "cell_type": "code",
   "execution_count": 1,
   "metadata": {},
   "outputs": [
    {
     "name": "stdout",
     "output_type": "stream",
     "text": [
      "derivatives with respect to the weights:\n",
      "tf.Tensor(\n",
      "[[ 7.  7.]\n",
      " [14. 14.]\n",
      " [21. 21.]], shape=(3, 2), dtype=float32) \n",
      "\n",
      "derivatives with respect to the biases:\n",
      "tf.Tensor([7. 7.], shape=(2,), dtype=float32)\n"
     ]
    }
   ],
   "source": [
    "import tensorflow as tf\n",
    "import numpy as np\n",
    "\n",
    "# Variable definitions\n",
    "x = tf.Variable([1,2,3], dtype = tf.float32, name = 'x')\n",
    "W = tf.Variable(tf.ones((3, 2)), name = 'W')\n",
    "b = tf.Variable(tf.ones(2, dtype = tf.float32), name = 'b')\n",
    "\n",
    "# Recording of calculations\n",
    "with tf.GradientTape(persistent = True) as tape:\n",
    "  y = tf.tensordot(x, W, axes = [[0],[0]]) + b\n",
    "  loss = tf.reduce_mean(y**2)\n",
    "\n",
    "# Gradient computation\n",
    "[dloss_dW, dloss_db] = tape.gradient(loss, [W, b])\n",
    "\n",
    "# Partial derivatives with respect to each variable\n",
    "# Derivatives output shape is equal to variables input shape.\n",
    "print('derivatives with respect to the weights:')\n",
    "print(dloss_dW,'\\n')\n",
    "print('derivatives with respect to the biases:')\n",
    "print(dloss_db)"
   ]
  },
  {
   "cell_type": "code",
   "execution_count": null,
   "metadata": {},
   "outputs": [],
   "source": []
  }
 ],
 "metadata": {
  "kernelspec": {
   "display_name": "Python 3",
   "language": "python",
   "name": "python3"
  },
  "language_info": {
   "codemirror_mode": {
    "name": "ipython",
    "version": 3
   },
   "file_extension": ".py",
   "mimetype": "text/x-python",
   "name": "python",
   "nbconvert_exporter": "python",
   "pygments_lexer": "ipython3",
   "version": "3.8.5"
  }
 },
 "nbformat": 4,
 "nbformat_minor": 4
}
