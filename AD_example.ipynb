{
 "cells": [
  {
   "cell_type": "code",
   "execution_count": 3,
   "metadata": {},
   "outputs": [
    {
     "name": "stdout",
     "output_type": "stream",
     "text": [
      "derivatives with respect to the weights:\n",
      "tf.Tensor(\n",
      "[[ 7.  7.]\n",
      " [14. 14.]\n",
      " [21. 21.]], shape=(3, 2), dtype=float32) \n",
      "\n",
      "derivatives with respect to the biases:\n",
      "tf.Tensor([7. 7.], shape=(2,), dtype=float32)\n"
     ]
    }
   ],
   "source": [
    "import tensorflow as tf\n",
    "import numpy as np\n",
    "\n",
    "# Variable definitions\n",
    "x = tf.Variable([1,2,3], dtype = tf.float32, name = 'x')\n",
    "W = tf.Variable(tf.ones((3, 2)), name = 'W')\n",
    "b = tf.Variable(tf.ones(2, dtype = tf.float32), name = 'b')\n",
    "\n",
    "# Recording of calculations\n",
    "with tf.GradientTape(persistent = True) as tape:\n",
    "  y = tf.tensordot(x, W, axes = [[0],[0]]) + b\n",
    "  loss = tf.reduce_mean(y**2)\n",
    "\n",
    "# Gradient computation\n",
    "[dloss_dW, dloss_db] = tape.gradient(loss, [W, b])\n",
    "\n",
    "# Partial derivatives with respect to each variable\n",
    "# Derivatives output shape is equal to variables input shape.\n",
    "print('derivatives with respect to the weights:')\n",
    "print(dloss_dW,'\\n')\n",
    "print('derivatives with respect to the biases:')\n",
    "print(dloss_db)"
   ]
  },
  {
   "cell_type": "code",
   "execution_count": null,
   "metadata": {},
   "outputs": [],
   "source": []
  }
 ],
 "metadata": {
  "kernelspec": {
   "display_name": "Python 3",
   "language": "python",
   "name": "python3"
  },
  "language_info": {
   "codemirror_mode": {
    "name": "ipython",
    "version": 3
   },
   "file_extension": ".py",
   "mimetype": "text/x-python",
   "name": "python",
   "nbconvert_exporter": "python",
   "pygments_lexer": "ipython3",
   "version": "3.8.5"
  }
 },
 "nbformat": 4,
 "nbformat_minor": 4
}
